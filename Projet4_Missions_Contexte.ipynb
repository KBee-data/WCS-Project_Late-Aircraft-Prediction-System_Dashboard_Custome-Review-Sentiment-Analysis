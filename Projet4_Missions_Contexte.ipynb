{
 "cells": [
  {
   "cell_type": "markdown",
   "metadata": {},
   "source": [
    "# **CONTEXTE + MISSIONS**"
   ]
  },
  {
   "cell_type": "markdown",
   "metadata": {},
   "source": [
    "**L’ENTREPRISE**\n",
    "\n",
    "**Sendair** est une compagnie qui analyse les tendances du trafic aérien et du retour client pour des\n",
    "entreprises telles que Airfrance, American Airlines ou des aéroports tels que Roissy-Charles De\n",
    "Gaulle et LAX.\n",
    "\n",
    "\n",
    "\n",
    "**COMPÉTENCE NÉCESSAIRES**\n",
    "\n",
    "Data Visualisation, Machine Learning, Geocoding, Webscrapping, NLP, API\n",
    "\n",
    "\n",
    "**LIVRABLES ATTENDUS**\n",
    "\n",
    "**1) Dashboard qui comprend :** \n",
    "- une analyse des vols avec un retard au départ pour identifier les vols ayant accumulé les retards les plus importants\n",
    "- déterminer les compagnies aériennes, les aéroports et les jours de la semaine les plus touchés par les retards\n",
    "- identifier les causes principales des retards (système aérien, sécurité, compagnies aériennes, avions, conditions météorologiques, etc.)\n",
    "- visualisation cartographique des aéoroports\n",
    "\n",
    "\n",
    "**2) Analyse prédictive :** \n",
    "- une application du Machine Learning pour prédire les retards de vols pour améliorer l'efficacité opérationnelle chez SendAir.\n",
    "\n",
    "**3) Sentiment Analysis - Avis Clients :** \n",
    "- Analyse détaillée des critiques, avec des TOPs et des FLOPs, des visualisations impactantes\n",
    "- Un système de prédiction de la qualité du commentaire en se basant sur les analyses proposées\n"
   ]
  },
  {
   "cell_type": "markdown",
   "metadata": {},
   "source": [
    "[Fichier PDF de présentation du projet 3](https://drive.google.com/file/d/1Gi0EVAsQAbPaUZpQzGgdbnS2Rh1EUr9R/view?usp=sharing)"
   ]
  },
  {
   "cell_type": "markdown",
   "metadata": {},
   "source": [
    "# **PLAN DU TRAVAIL**"
   ]
  },
  {
   "cell_type": "markdown",
   "metadata": {},
   "source": [
    "**DASHBOARD**\n",
    "1. **Etude du marché :** dégager des tendances et prévisions de croissance du marché, données sur la demande de transport aérien (volume de passagers + fréquence des vols et liaisons populaires), analyser la concurrence entre les compagnies aériennes, se documenter sur les réglementations et politiques du secteur, observer l'importance des conditions météorologiques et géographiques sur le marché\n",
    "\n",
    "2. **Exploration des données :** Explorer les données pour comprendre leur structure, les valeurs manquantes et les potentielles anomalies\n",
    "\n",
    "3. **Nettoyage des données :** Gérer les données manquantes et les doublons, assurer la cohérence des formats date et heure et normaliser les composants, identifier et traiter les valeurs aberrantes, uniformiser les codes de compagnies aériennes, d'aéroports et des facteurs de retard, filtrer les colonnes non-pertinentes\n",
    "\n",
    "4. **Analyse des Retards :** Calculer les retards de départ et d'arrivée, identifier les vols ayant accumulé les retards les plus importants, essayer de déterminer les compagnies\n",
    "aériennes, les aéroports et les jours de la semaine les plus touchés par les retards\n",
    "\n",
    "5. **Facteurs de Retard :** Approfondir l'analyse pour identifier les causes principales des retards (système aérien, sécurité, compagnies aériennes, avions, conditions météorologiques, retard cumulé)\n",
    "\n",
    "6. **Visualisation Cartographique :** Créer des cartes interactives affichant les emplacements des aéroports en fonction de leurs coordonnées géographiques. Rendre ces visualisations importantes d’un point de vue analytique (flux de vols/passagers, pourcentage de vols avec du retard, etc.).\n",
    "\n",
    "**ANALYSE PRÉDICTIVES**\n",
    "\n",
    "7. **Prédiction de Retards :** Mettre en place un modèle de machine learning capable de prédire les retards de vols (après avoir nettoyé et divisé les données en ensembles d'entraînement et de test)\n",
    "\n",
    "8. **Interface utilisateur avec Streamlit :** charger le modèle, permettre à l'utilisateur d'entrer des données pour la prédiction, préparer des données d'entrée, générer et afficher thala prédiction\n",
    "\n",
    "**SENTIMENT ANALYSIS DES AVIS CLIENTS**\n",
    "\n",
    "9. **Exploration des données :** explorer les données pour comprendre leur structure, le fonctionnement du système de notation et les potentielles anomalies\n",
    "\n",
    "10. **Prétraitement des données :** nettoyer le texte et le convertir en miniscule, standardiser le texte (supprimer des stopwords, la ponctuation et des caractères spéciaux), tokenisation,  extraction et filtrage des n-grams, lemmatisation\n",
    "\n",
    "11. **Analyse de sentiment:** mettre en place un modèle d'analyse de sentiment (utiliser une bibliothèque pour une analyse de base (positive, neutre, négative), entraîner un modèle d'apprentissage automatique (classification supervisée - SVM ou Random Forest), vectoriser les textes en convertissant les avis en vecteurs à l'aide de techniques comme TF-IDF ou les embeddings), intégrer les n-grams dans l'analyse de sentiment, pondérer des n-grams, analyser les résultats (calculer des scores de sentiment, segmenter les résultats pour compararer les scores en fonction des compagnies aériennes ou des aéroports), et visualiser les résultats (histogramme des scores de sentiment, nuages de mots), rapport et recommandations (synthétiser des points positifs et négatifs, identifier les améliorations possibles en fonction des résultats)\n",
    "\n",
    "\n",
    "**RECOMMANDATIONS FINALES:** \n",
    "\n",
    "12. À partir de l'ensemble des analyses, formuler des recommandations pour améliorer la gestion des retards de vols et l'efficacité opérationnelle de SendAir\n",
    "\n",
    "\n"
   ]
  },
  {
   "cell_type": "markdown",
   "metadata": {},
   "source": [
    "## Définition des causes de retards de vols selon éléments rapportés à la BTS"
   ]
  },
  {
   "cell_type": "markdown",
   "metadata": {},
   "source": [
    "**Quels types de retards de vols sont signalés au BTS par les compagnies aériennes ?**\n",
    "Les compagnies aériennes qui déclarent mensuellement le nombre de retards de vols au BTS ont commencé à fournir des informations sur les causes des retards en juin 2003. Les compagnies aériennes classent les causes des retards en cinq grandes catégories :\n",
    "\n",
    "**Transporteur aérien :** La cause de l'annulation ou du retard est due à des circonstances relevant du contrôle de la compagnie aérienne (par exemple, problèmes de maintenance ou d'équipage, nettoyage de l'avion, chargement des bagages, ravitaillement en carburant, etc.)\n",
    "\n",
    "**Conditions météorologiques extrêmes :** Conditions météorologiques importantes (réelles ou prévues) qui, de l'avis du transporteur, retardent ou empêchent la réalisation d'un vol, comme une tornade, un blizzard ou un ouragan.\n",
    "\n",
    "**Système aéronautique national (NAS) :** Retards et annulations imputables au système national d'aviation et se rapportant à un large éventail de conditions, telles que les conditions météorologiques non extrêmes, les opérations aéroportuaires, le volume élevé du trafic et le contrôle du trafic aérien.\n",
    "\n",
    "**Aéronef arrivé en retard :** Un vol précédent avec le même aéronef est arrivé en retard, entraînant le départ tardif du vol actuel.\n",
    "\n",
    "**Sécurité :** Retards ou annulations causés par l'évacuation d'un terminal ou d'un hall, le ré-embarquement d'un avion en raison d'une infraction à la sécurité, un équipement de contrôle inopérant et/ou une longue file d'attente de plus de 29 minutes dans les zones de contrôle.\n",
    "\n",
    "Comment les catégories de rapports ont-elles été déterminées ?\n",
    "Le 25 novembre 2002, le ministère américain des transports a publié une règle finale sur la déclaration des causes des retards de vol. Cette règle finale fait suite à deux années de réflexion.\n",
    "\n",
    "En août 2000, le ministère des transports a créé un comité consultatif sur les retards des transporteurs aériens (Air Carrier On-Time Reporting Advisory Committee) chargé d'étudier les modifications à apporter au système actuel de notification des retards afin que le public dispose d'informations claires sur la nature et les sources des retards et des annulations des compagnies aériennes. Ce groupe de travail a recommandé la création d'un cadre pour la collecte d'informations sur les causes des retards et des annulations des compagnies aériennes.\n",
    "\n",
    "En 2001, le BTS a mené un programme pilote avec quatre compagnies aériennes pour tester le rapport mensuel sur les causes. La BTS a basé la règle finale sur les recommandations du groupe de travail, les résultats de son projet pilote, ses efforts de sensibilisation de la communauté aéronautique et les commentaires reçus après la publication d'une proposition de règle en décembre 2001.\n",
    "\n",
    "Pour consulter une copie de la règle, rendez-vous sur Regulations.gov pour la règle OST 2000-8164.\n",
    "\n",
    "Quels sont les vols concernés par la déclaration ?\n",
    "La règle exige des transporteurs qu'ils déclarent les opérations intérieures au départ et à destination des aéroports américains.\n",
    "\n",
    "Comment les retards des vols sont-ils calculés ?\n",
    "\n",
    "Un vol est considéré comme \"à l'heure\" s'il a été effectué avec moins de 15 minutes de retard par rapport à l'heure prévue dans les systèmes informatisés de réservation (SIR) des transporteurs. Les performances à l'arrivée sont basées sur l'arrivée à la porte d'embarquement. Les performances au départ sont basées sur le départ de la porte d'embarquement.\n",
    "\n",
    "Depuis combien de temps les compagnies aériennes communiquent-elles leurs performances en matière de ponctualité ?\n",
    "Les compagnies aériennes communiquent leurs performances en matière de ponctualité au ministère américain des transports depuis 1987. Les rapports ont été modifiés en 1995 pour inclure les retards mécaniques, qui n'avaient pas été inclus dans la règle initiale. Les rapports mensuels sont publiés dans l'Air Travel Consumer Report.\n",
    "\n",
    "Quels sont les types de données publiées ?\n",
    "Le ministère américain des transports publie un résumé mensuel des performances des compagnies aériennes en matière de ponctualité, y compris les causes de retard, dans l'Air Travel Consumer Report.\n",
    "\n",
    "Le Bureau of Transportation Statistics publie diverses informations sur la ponctualité et les retards des vols."
   ]
  },
  {
   "cell_type": "markdown",
   "metadata": {},
   "source": []
  }
 ],
 "metadata": {
  "language_info": {
   "name": "python"
  }
 },
 "nbformat": 4,
 "nbformat_minor": 2
}
